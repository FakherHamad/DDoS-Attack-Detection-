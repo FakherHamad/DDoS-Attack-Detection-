{
 "cells": [
  {
   "cell_type": "markdown",
   "id": "38778316",
   "metadata": {},
   "source": [
    "# DDoS Attack Detection Using Machine Learning  \n",
    "\n",
    " Cyber-attacks are increasing rapidly there is Distributed Denial-of-Service Attack (DDoS). DDoS Attacks are strong and frequent attacks with a high success rate and the most significant risk to the Internet. The main effect of a DDoS attack is reduced service availability.To protect network and information technology, we need to develop a Machine Learning model to detect malicious activities.This could enhance the overall efficiency of DDoS attack detection and minimize the harm of attacks on the network infrastructure. \n",
    " *The steps demonstrated in this notebook are:\n",
    " 1.Loading the data\n",
    " \n",
    " 2.Familiarizing with data & EDA\n",
    " \n",
    " 3.Preprocessing the data \n",
    " \n",
    " 4.Splitting the data\n",
    " \n",
    " 5.Training the data\n",
    " \n",
    " 6.Conclusion\n",
    " "
   ]
  },
  {
   "cell_type": "code",
   "execution_count": null,
   "id": "5ecf5160",
   "metadata": {},
   "outputs": [],
   "source": [
    "#importing required libraries\n",
    "import pandas as pd  \n",
    "from sklearn import metrics\n",
    "from sklearn.preprocessing import LabelEncoder\n",
    "import seaborn as sns\n",
    "import numpy as np\n",
    "import matplotlib.pyplot as plt\n",
    "from sklearn.linear_model import LogisticRegression"
   ]
  },
  {
   "cell_type": "markdown",
   "id": "ba7034fc",
   "metadata": {},
   "source": [
    "# 1.Loading Data:\n",
    "To evaluate the efficiency of our proposed model,the CICDDoS2019 Dataset was used.It contains DDoS attacks and normal traffic. \n",
    "\n",
    "The CSV file contain 431372 instances and 77 input features.Benign is a normal class(represents zero),and others are \n",
    "\n",
    "attacks(represents one). "
   ]
  },
  {
   "cell_type": "code",
   "execution_count": 2,
   "id": "f9f843cd",
   "metadata": {
    "scrolled": true
   },
   "outputs": [
    {
     "data": {
      "text/html": [
       "<div>\n",
       "<style scoped>\n",
       "    .dataframe tbody tr th:only-of-type {\n",
       "        vertical-align: middle;\n",
       "    }\n",
       "\n",
       "    .dataframe tbody tr th {\n",
       "        vertical-align: top;\n",
       "    }\n",
       "\n",
       "    .dataframe thead th {\n",
       "        text-align: right;\n",
       "    }\n",
       "</style>\n",
       "<table border=\"1\" class=\"dataframe\">\n",
       "  <thead>\n",
       "    <tr style=\"text-align: right;\">\n",
       "      <th></th>\n",
       "      <th>Unnamed: 0</th>\n",
       "      <th>Protocol</th>\n",
       "      <th>Flow Duration</th>\n",
       "      <th>Total Fwd Packets</th>\n",
       "      <th>Total Backward Packets</th>\n",
       "      <th>Fwd Packets Length Total</th>\n",
       "      <th>Bwd Packets Length Total</th>\n",
       "      <th>Fwd Packet Length Max</th>\n",
       "      <th>Fwd Packet Length Min</th>\n",
       "      <th>Fwd Packet Length Mean</th>\n",
       "      <th>...</th>\n",
       "      <th>Fwd Seg Size Min</th>\n",
       "      <th>Active Mean</th>\n",
       "      <th>Active Std</th>\n",
       "      <th>Active Max</th>\n",
       "      <th>Active Min</th>\n",
       "      <th>Idle Mean</th>\n",
       "      <th>Idle Std</th>\n",
       "      <th>Idle Max</th>\n",
       "      <th>Idle Min</th>\n",
       "      <th>Class</th>\n",
       "    </tr>\n",
       "  </thead>\n",
       "  <tbody>\n",
       "    <tr>\n",
       "      <th>0</th>\n",
       "      <td>0</td>\n",
       "      <td>17</td>\n",
       "      <td>216631</td>\n",
       "      <td>6</td>\n",
       "      <td>0</td>\n",
       "      <td>2088</td>\n",
       "      <td>0</td>\n",
       "      <td>393</td>\n",
       "      <td>321</td>\n",
       "      <td>348.0</td>\n",
       "      <td>...</td>\n",
       "      <td>14</td>\n",
       "      <td>0.0</td>\n",
       "      <td>0.0</td>\n",
       "      <td>0</td>\n",
       "      <td>0</td>\n",
       "      <td>0.0</td>\n",
       "      <td>0.0</td>\n",
       "      <td>0</td>\n",
       "      <td>0</td>\n",
       "      <td>Attack</td>\n",
       "    </tr>\n",
       "    <tr>\n",
       "      <th>1</th>\n",
       "      <td>1</td>\n",
       "      <td>17</td>\n",
       "      <td>2</td>\n",
       "      <td>2</td>\n",
       "      <td>0</td>\n",
       "      <td>802</td>\n",
       "      <td>0</td>\n",
       "      <td>401</td>\n",
       "      <td>401</td>\n",
       "      <td>401.0</td>\n",
       "      <td>...</td>\n",
       "      <td>20</td>\n",
       "      <td>0.0</td>\n",
       "      <td>0.0</td>\n",
       "      <td>0</td>\n",
       "      <td>0</td>\n",
       "      <td>0.0</td>\n",
       "      <td>0.0</td>\n",
       "      <td>0</td>\n",
       "      <td>0</td>\n",
       "      <td>Attack</td>\n",
       "    </tr>\n",
       "    <tr>\n",
       "      <th>2</th>\n",
       "      <td>2</td>\n",
       "      <td>17</td>\n",
       "      <td>48</td>\n",
       "      <td>2</td>\n",
       "      <td>0</td>\n",
       "      <td>766</td>\n",
       "      <td>0</td>\n",
       "      <td>383</td>\n",
       "      <td>383</td>\n",
       "      <td>383.0</td>\n",
       "      <td>...</td>\n",
       "      <td>20</td>\n",
       "      <td>0.0</td>\n",
       "      <td>0.0</td>\n",
       "      <td>0</td>\n",
       "      <td>0</td>\n",
       "      <td>0.0</td>\n",
       "      <td>0.0</td>\n",
       "      <td>0</td>\n",
       "      <td>0</td>\n",
       "      <td>Attack</td>\n",
       "    </tr>\n",
       "    <tr>\n",
       "      <th>3</th>\n",
       "      <td>3</td>\n",
       "      <td>17</td>\n",
       "      <td>107319</td>\n",
       "      <td>4</td>\n",
       "      <td>0</td>\n",
       "      <td>1398</td>\n",
       "      <td>0</td>\n",
       "      <td>369</td>\n",
       "      <td>330</td>\n",
       "      <td>349.5</td>\n",
       "      <td>...</td>\n",
       "      <td>20</td>\n",
       "      <td>0.0</td>\n",
       "      <td>0.0</td>\n",
       "      <td>0</td>\n",
       "      <td>0</td>\n",
       "      <td>0.0</td>\n",
       "      <td>0.0</td>\n",
       "      <td>0</td>\n",
       "      <td>0</td>\n",
       "      <td>Attack</td>\n",
       "    </tr>\n",
       "    <tr>\n",
       "      <th>4</th>\n",
       "      <td>4</td>\n",
       "      <td>17</td>\n",
       "      <td>107271</td>\n",
       "      <td>4</td>\n",
       "      <td>0</td>\n",
       "      <td>1438</td>\n",
       "      <td>0</td>\n",
       "      <td>389</td>\n",
       "      <td>330</td>\n",
       "      <td>359.5</td>\n",
       "      <td>...</td>\n",
       "      <td>8</td>\n",
       "      <td>0.0</td>\n",
       "      <td>0.0</td>\n",
       "      <td>0</td>\n",
       "      <td>0</td>\n",
       "      <td>0.0</td>\n",
       "      <td>0.0</td>\n",
       "      <td>0</td>\n",
       "      <td>0</td>\n",
       "      <td>Attack</td>\n",
       "    </tr>\n",
       "  </tbody>\n",
       "</table>\n",
       "<p>5 rows × 67 columns</p>\n",
       "</div>"
      ],
      "text/plain": [
       "   Unnamed: 0  Protocol  Flow Duration  Total Fwd Packets  \\\n",
       "0           0        17         216631                  6   \n",
       "1           1        17              2                  2   \n",
       "2           2        17             48                  2   \n",
       "3           3        17         107319                  4   \n",
       "4           4        17         107271                  4   \n",
       "\n",
       "   Total Backward Packets  Fwd Packets Length Total  Bwd Packets Length Total  \\\n",
       "0                       0                      2088                         0   \n",
       "1                       0                       802                         0   \n",
       "2                       0                       766                         0   \n",
       "3                       0                      1398                         0   \n",
       "4                       0                      1438                         0   \n",
       "\n",
       "   Fwd Packet Length Max  Fwd Packet Length Min  Fwd Packet Length Mean  ...  \\\n",
       "0                    393                    321                   348.0  ...   \n",
       "1                    401                    401                   401.0  ...   \n",
       "2                    383                    383                   383.0  ...   \n",
       "3                    369                    330                   349.5  ...   \n",
       "4                    389                    330                   359.5  ...   \n",
       "\n",
       "   Fwd Seg Size Min  Active Mean  Active Std  Active Max  Active Min  \\\n",
       "0                14          0.0         0.0           0           0   \n",
       "1                20          0.0         0.0           0           0   \n",
       "2                20          0.0         0.0           0           0   \n",
       "3                20          0.0         0.0           0           0   \n",
       "4                 8          0.0         0.0           0           0   \n",
       "\n",
       "   Idle Mean  Idle Std  Idle Max  Idle Min   Class  \n",
       "0        0.0       0.0         0         0  Attack  \n",
       "1        0.0       0.0         0         0  Attack  \n",
       "2        0.0       0.0         0         0  Attack  \n",
       "3        0.0       0.0         0         0  Attack  \n",
       "4        0.0       0.0         0         0  Attack  \n",
       "\n",
       "[5 rows x 67 columns]"
      ]
     },
     "execution_count": 2,
     "metadata": {},
     "output_type": "execute_result"
    }
   ],
   "source": [
    "data=pd.read_csv(\"cicddos2019_dataset_unbalance.csv\" )\n",
    "low_memory=False\n",
    "data.head()"
   ]
  },
  {
   "cell_type": "markdown",
   "id": "29bf5568",
   "metadata": {},
   "source": [
    "# 2. Familiarizing with Data & EDA:\n",
    "\n",
    "In this step, few dataframe methods are used to look into the data and its features."
   ]
  },
  {
   "cell_type": "code",
   "execution_count": 3,
   "id": "b2bc26cf",
   "metadata": {},
   "outputs": [
    {
     "name": "stdout",
     "output_type": "stream",
     "text": [
      "Before Drop null values (431371, 67)\n",
      "After Drop null values (431371, 67)\n"
     ]
    }
   ],
   "source": [
    "mask = data.isnull().any(axis=1) # place of NaN and Infinty count\n",
    "#drop data that with null values  \n",
    "print(\"Before Drop null values\", data.shape)\n",
    "data =  data[~mask] \n",
    "print(\"After Drop null values\", data.shape)"
   ]
  },
  {
   "cell_type": "code",
   "execution_count": 4,
   "id": "4a704c90",
   "metadata": {},
   "outputs": [],
   "source": [
    "data = data.drop('Unnamed: 0',axis=1)"
   ]
  },
  {
   "cell_type": "code",
   "execution_count": 5,
   "id": "3baf7ed4",
   "metadata": {},
   "outputs": [
    {
     "data": {
      "text/plain": [
       "(431371, 66)"
      ]
     },
     "execution_count": 5,
     "metadata": {},
     "output_type": "execute_result"
    }
   ],
   "source": [
    "data.shape"
   ]
  },
  {
   "cell_type": "code",
   "execution_count": 6,
   "id": "02894acc",
   "metadata": {},
   "outputs": [
    {
     "data": {
      "text/plain": [
       "(431371, 66)"
      ]
     },
     "execution_count": 6,
     "metadata": {},
     "output_type": "execute_result"
    }
   ],
   "source": [
    "#Remove Duplicate\n",
    "data.drop_duplicates()\n",
    "data.shape"
   ]
  },
  {
   "cell_type": "code",
   "execution_count": 7,
   "id": "8ceb3623",
   "metadata": {},
   "outputs": [
    {
     "name": "stdout",
     "output_type": "stream",
     "text": [
      "<class 'pandas.core.frame.DataFrame'>\n",
      "Int64Index: 431371 entries, 0 to 431370\n",
      "Data columns (total 66 columns):\n",
      " #   Column                    Non-Null Count   Dtype  \n",
      "---  ------                    --------------   -----  \n",
      " 0   Protocol                  431371 non-null  int64  \n",
      " 1   Flow Duration             431371 non-null  int64  \n",
      " 2   Total Fwd Packets         431371 non-null  int64  \n",
      " 3   Total Backward Packets    431371 non-null  int64  \n",
      " 4   Fwd Packets Length Total  431371 non-null  int64  \n",
      " 5   Bwd Packets Length Total  431371 non-null  int64  \n",
      " 6   Fwd Packet Length Max     431371 non-null  int64  \n",
      " 7   Fwd Packet Length Min     431371 non-null  int64  \n",
      " 8   Fwd Packet Length Mean    431371 non-null  float64\n",
      " 9   Fwd Packet Length Std     431371 non-null  float64\n",
      " 10  Bwd Packet Length Max     431371 non-null  int64  \n",
      " 11  Bwd Packet Length Min     431371 non-null  int64  \n",
      " 12  Bwd Packet Length Mean    431371 non-null  float64\n",
      " 13  Bwd Packet Length Std     431371 non-null  float64\n",
      " 14  Flow Bytes/s              431371 non-null  float64\n",
      " 15  Flow Packets/s            431371 non-null  float64\n",
      " 16  Flow IAT Mean             431371 non-null  float64\n",
      " 17  Flow IAT Std              431371 non-null  float64\n",
      " 18  Flow IAT Max              431371 non-null  int64  \n",
      " 19  Flow IAT Min              431371 non-null  int64  \n",
      " 20  Fwd IAT Total             431371 non-null  int64  \n",
      " 21  Fwd IAT Mean              431371 non-null  float64\n",
      " 22  Fwd IAT Std               431371 non-null  float64\n",
      " 23  Fwd IAT Max               431371 non-null  int64  \n",
      " 24  Fwd IAT Min               431371 non-null  int64  \n",
      " 25  Bwd IAT Total             431371 non-null  int64  \n",
      " 26  Bwd IAT Mean              431371 non-null  float64\n",
      " 27  Bwd IAT Std               431371 non-null  float64\n",
      " 28  Bwd IAT Max               431371 non-null  int64  \n",
      " 29  Bwd IAT Min               431371 non-null  int64  \n",
      " 30  Fwd PSH Flags             431371 non-null  int64  \n",
      " 31  Fwd Header Length         431371 non-null  int64  \n",
      " 32  Bwd Header Length         431371 non-null  int64  \n",
      " 33  Fwd Packets/s             431371 non-null  float64\n",
      " 34  Bwd Packets/s             431371 non-null  float64\n",
      " 35  Packet Length Min         431371 non-null  int64  \n",
      " 36  Packet Length Max         431371 non-null  int64  \n",
      " 37  Packet Length Mean        431371 non-null  float64\n",
      " 38  Packet Length Std         431371 non-null  float64\n",
      " 39  Packet Length Variance    431371 non-null  float64\n",
      " 40  SYN Flag Count            431371 non-null  int64  \n",
      " 41  RST Flag Count            431371 non-null  int64  \n",
      " 42  ACK Flag Count            431371 non-null  int64  \n",
      " 43  URG Flag Count            431371 non-null  int64  \n",
      " 44  CWE Flag Count            431371 non-null  int64  \n",
      " 45  Down/Up Ratio             431371 non-null  int64  \n",
      " 46  Avg Packet Size           431371 non-null  float64\n",
      " 47  Avg Fwd Segment Size      431371 non-null  float64\n",
      " 48  Avg Bwd Segment Size      431371 non-null  float64\n",
      " 49  Subflow Fwd Packets       431371 non-null  int64  \n",
      " 50  Subflow Fwd Bytes         431371 non-null  int64  \n",
      " 51  Subflow Bwd Packets       431371 non-null  int64  \n",
      " 52  Subflow Bwd Bytes         431371 non-null  int64  \n",
      " 53  Init Fwd Win Bytes        431371 non-null  int64  \n",
      " 54  Init Bwd Win Bytes        431371 non-null  int64  \n",
      " 55  Fwd Act Data Packets      431371 non-null  int64  \n",
      " 56  Fwd Seg Size Min          431371 non-null  int64  \n",
      " 57  Active Mean               431371 non-null  float64\n",
      " 58  Active Std                431371 non-null  float64\n",
      " 59  Active Max                431371 non-null  int64  \n",
      " 60  Active Min                431371 non-null  int64  \n",
      " 61  Idle Mean                 431371 non-null  float64\n",
      " 62  Idle Std                  431371 non-null  float64\n",
      " 63  Idle Max                  431371 non-null  int64  \n",
      " 64  Idle Min                  431371 non-null  int64  \n",
      " 65  Class                     431371 non-null  object \n",
      "dtypes: float64(24), int64(41), object(1)\n",
      "memory usage: 220.5+ MB\n"
     ]
    }
   ],
   "source": [
    "data.info()"
   ]
  },
  {
   "cell_type": "code",
   "execution_count": 8,
   "id": "d885891a",
   "metadata": {},
   "outputs": [
    {
     "data": {
      "text/plain": [
       "array([17,  6,  0], dtype=int64)"
      ]
     },
     "execution_count": 8,
     "metadata": {},
     "output_type": "execute_result"
    }
   ],
   "source": [
    "# nunique value in columns\n",
    "data['Protocol'].unique()"
   ]
  },
  {
   "cell_type": "markdown",
   "id": "f6e960e3",
   "metadata": {},
   "source": [
    "# 3.Preprocessing the data \n",
    "\n",
    "Is the process of transforming raw data into a form that may be used in machine learning.There are many preprocessing \n",
    "\n",
    "techniques such as  label encoder,  normalization, scaling, data balance and features selection  "
   ]
  },
  {
   "cell_type": "markdown",
   "id": "ae4601e7",
   "metadata": {},
   "source": [
    "# 3.1.Label Encoder\n",
    "\n",
    "Is a data preprocessing technique used to convert categorical variables into numerical labels."
   ]
  },
  {
   "cell_type": "code",
   "execution_count": 9,
   "id": "afca3b59",
   "metadata": {},
   "outputs": [
    {
     "data": {
      "text/plain": [
       "array([2, 1, 0], dtype=int64)"
      ]
     },
     "execution_count": 9,
     "metadata": {},
     "output_type": "execute_result"
    }
   ],
   "source": [
    "#Encoding Protocol\n",
    "labelencoder = LabelEncoder()\n",
    "data['Protocol'] = labelencoder.fit_transform(data['Protocol'])\n",
    "data['Protocol'].unique()"
   ]
  },
  {
   "cell_type": "code",
   "execution_count": 10,
   "id": "0c694538",
   "metadata": {},
   "outputs": [
    {
     "data": {
      "text/plain": [
       "array([0, 1])"
      ]
     },
     "execution_count": 10,
     "metadata": {},
     "output_type": "execute_result"
    }
   ],
   "source": [
    "#Encoding Class\n",
    "#let Benign  = 0  and Bot =1 in label  \n",
    "labelencoder = LabelEncoder()\n",
    "data['Class'] = labelencoder.fit_transform(data['Class'])\n",
    "data['Class'].unique()"
   ]
  },
  {
   "cell_type": "markdown",
   "id": "d7a2b611",
   "metadata": {},
   "source": [
    "# 3.2.Normalization\n",
    " Is a data preprocessing technique used to bring the values of different features or variables to a similar scale.Note that normalization should be applied to the training data "
   ]
  },
  {
   "cell_type": "code",
   "execution_count": 11,
   "id": "65c1915f",
   "metadata": {},
   "outputs": [],
   "source": [
    "col_for_not_nor = ['Fwd PSH Flags','SYN Flag Count', \n",
    "'RST Flag Count', 'Protocol','Class','ACK Flag Count', 'URG Flag Count', 'CWE Flag Count']"
   ]
  },
  {
   "cell_type": "code",
   "execution_count": 12,
   "id": "ed8eb7dc",
   "metadata": {},
   "outputs": [
    {
     "data": {
      "text/plain": [
       "['Flow Duration',\n",
       " 'Total Fwd Packets',\n",
       " 'Total Backward Packets',\n",
       " 'Fwd Packets Length Total',\n",
       " 'Bwd Packets Length Total',\n",
       " 'Fwd Packet Length Max',\n",
       " 'Fwd Packet Length Min',\n",
       " 'Fwd Packet Length Mean',\n",
       " 'Fwd Packet Length Std',\n",
       " 'Bwd Packet Length Max',\n",
       " 'Bwd Packet Length Min',\n",
       " 'Bwd Packet Length Mean',\n",
       " 'Bwd Packet Length Std',\n",
       " 'Flow Bytes/s',\n",
       " 'Flow Packets/s',\n",
       " 'Flow IAT Mean',\n",
       " 'Flow IAT Std',\n",
       " 'Flow IAT Max',\n",
       " 'Flow IAT Min',\n",
       " 'Fwd IAT Total',\n",
       " 'Fwd IAT Mean',\n",
       " 'Fwd IAT Std',\n",
       " 'Fwd IAT Max',\n",
       " 'Fwd IAT Min',\n",
       " 'Bwd IAT Total',\n",
       " 'Bwd IAT Mean',\n",
       " 'Bwd IAT Std',\n",
       " 'Bwd IAT Max',\n",
       " 'Bwd IAT Min',\n",
       " 'Fwd Header Length',\n",
       " 'Bwd Header Length',\n",
       " 'Fwd Packets/s',\n",
       " 'Bwd Packets/s',\n",
       " 'Packet Length Min',\n",
       " 'Packet Length Max',\n",
       " 'Packet Length Mean',\n",
       " 'Packet Length Std',\n",
       " 'Packet Length Variance',\n",
       " 'Down/Up Ratio',\n",
       " 'Avg Packet Size',\n",
       " 'Avg Fwd Segment Size',\n",
       " 'Avg Bwd Segment Size',\n",
       " 'Subflow Fwd Packets',\n",
       " 'Subflow Fwd Bytes',\n",
       " 'Subflow Bwd Packets',\n",
       " 'Subflow Bwd Bytes',\n",
       " 'Init Fwd Win Bytes',\n",
       " 'Init Bwd Win Bytes',\n",
       " 'Fwd Act Data Packets',\n",
       " 'Fwd Seg Size Min',\n",
       " 'Active Mean',\n",
       " 'Active Std',\n",
       " 'Active Max',\n",
       " 'Active Min',\n",
       " 'Idle Mean',\n",
       " 'Idle Std',\n",
       " 'Idle Max',\n",
       " 'Idle Min']"
      ]
     },
     "execution_count": 12,
     "metadata": {},
     "output_type": "execute_result"
    }
   ],
   "source": [
    "col_for_nor = [] \n",
    "\n",
    "for col in data.columns:\n",
    "    if col not in col_for_not_nor:\n",
    "         col_for_nor.append(col)\n",
    "    else:\n",
    "        continue \n",
    "col_for_nor       "
   ]
  },
  {
   "cell_type": "code",
   "execution_count": 13,
   "id": "a8c9fd1a",
   "metadata": {},
   "outputs": [],
   "source": [
    "#Drop class column \n",
    "inputs = data.drop('Class', axis='columns')"
   ]
  },
  {
   "cell_type": "markdown",
   "id": "98d98f2f",
   "metadata": {},
   "source": [
    "# 3.3.Scaling \n",
    "\n",
    "The MinMaxScaler scales the values of the selected columns to a range between 0 and 1."
   ]
  },
  {
   "cell_type": "code",
   "execution_count": 14,
   "id": "82e08915",
   "metadata": {},
   "outputs": [
    {
     "data": {
      "text/html": [
       "<div>\n",
       "<style scoped>\n",
       "    .dataframe tbody tr th:only-of-type {\n",
       "        vertical-align: middle;\n",
       "    }\n",
       "\n",
       "    .dataframe tbody tr th {\n",
       "        vertical-align: top;\n",
       "    }\n",
       "\n",
       "    .dataframe thead th {\n",
       "        text-align: right;\n",
       "    }\n",
       "</style>\n",
       "<table border=\"1\" class=\"dataframe\">\n",
       "  <thead>\n",
       "    <tr style=\"text-align: right;\">\n",
       "      <th></th>\n",
       "      <th>Protocol</th>\n",
       "      <th>Flow Duration</th>\n",
       "      <th>Total Fwd Packets</th>\n",
       "      <th>Total Backward Packets</th>\n",
       "      <th>Fwd Packets Length Total</th>\n",
       "      <th>Bwd Packets Length Total</th>\n",
       "      <th>Fwd Packet Length Max</th>\n",
       "      <th>Fwd Packet Length Min</th>\n",
       "      <th>Fwd Packet Length Mean</th>\n",
       "      <th>Fwd Packet Length Std</th>\n",
       "      <th>...</th>\n",
       "      <th>Fwd Seg Size Min</th>\n",
       "      <th>Active Mean</th>\n",
       "      <th>Active Std</th>\n",
       "      <th>Active Max</th>\n",
       "      <th>Active Min</th>\n",
       "      <th>Idle Mean</th>\n",
       "      <th>Idle Std</th>\n",
       "      <th>Idle Max</th>\n",
       "      <th>Idle Min</th>\n",
       "      <th>Class</th>\n",
       "    </tr>\n",
       "  </thead>\n",
       "  <tbody>\n",
       "    <tr>\n",
       "      <th>0</th>\n",
       "      <td>2</td>\n",
       "      <td>1.805269e-03</td>\n",
       "      <td>0.000058</td>\n",
       "      <td>0.0</td>\n",
       "      <td>0.000137</td>\n",
       "      <td>0.0</td>\n",
       "      <td>0.012235</td>\n",
       "      <td>0.150634</td>\n",
       "      <td>0.115412</td>\n",
       "      <td>0.015795</td>\n",
       "      <td>...</td>\n",
       "      <td>0.954428</td>\n",
       "      <td>0.0</td>\n",
       "      <td>0.0</td>\n",
       "      <td>0.0</td>\n",
       "      <td>0.0</td>\n",
       "      <td>0.0</td>\n",
       "      <td>0.0</td>\n",
       "      <td>0.0</td>\n",
       "      <td>0.0</td>\n",
       "      <td>0</td>\n",
       "    </tr>\n",
       "    <tr>\n",
       "      <th>1</th>\n",
       "      <td>2</td>\n",
       "      <td>8.333421e-09</td>\n",
       "      <td>0.000012</td>\n",
       "      <td>0.0</td>\n",
       "      <td>0.000053</td>\n",
       "      <td>0.0</td>\n",
       "      <td>0.012484</td>\n",
       "      <td>0.188175</td>\n",
       "      <td>0.132989</td>\n",
       "      <td>0.000000</td>\n",
       "      <td>...</td>\n",
       "      <td>0.954428</td>\n",
       "      <td>0.0</td>\n",
       "      <td>0.0</td>\n",
       "      <td>0.0</td>\n",
       "      <td>0.0</td>\n",
       "      <td>0.0</td>\n",
       "      <td>0.0</td>\n",
       "      <td>0.0</td>\n",
       "      <td>0.0</td>\n",
       "      <td>0</td>\n",
       "    </tr>\n",
       "    <tr>\n",
       "      <th>2</th>\n",
       "      <td>2</td>\n",
       "      <td>3.916708e-07</td>\n",
       "      <td>0.000012</td>\n",
       "      <td>0.0</td>\n",
       "      <td>0.000050</td>\n",
       "      <td>0.0</td>\n",
       "      <td>0.011924</td>\n",
       "      <td>0.179728</td>\n",
       "      <td>0.127019</td>\n",
       "      <td>0.000000</td>\n",
       "      <td>...</td>\n",
       "      <td>0.954428</td>\n",
       "      <td>0.0</td>\n",
       "      <td>0.0</td>\n",
       "      <td>0.0</td>\n",
       "      <td>0.0</td>\n",
       "      <td>0.0</td>\n",
       "      <td>0.0</td>\n",
       "      <td>0.0</td>\n",
       "      <td>0.0</td>\n",
       "      <td>0</td>\n",
       "    </tr>\n",
       "    <tr>\n",
       "      <th>3</th>\n",
       "      <td>2</td>\n",
       "      <td>8.943260e-04</td>\n",
       "      <td>0.000035</td>\n",
       "      <td>0.0</td>\n",
       "      <td>0.000092</td>\n",
       "      <td>0.0</td>\n",
       "      <td>0.011488</td>\n",
       "      <td>0.154857</td>\n",
       "      <td>0.115909</td>\n",
       "      <td>0.010136</td>\n",
       "      <td>...</td>\n",
       "      <td>0.954428</td>\n",
       "      <td>0.0</td>\n",
       "      <td>0.0</td>\n",
       "      <td>0.0</td>\n",
       "      <td>0.0</td>\n",
       "      <td>0.0</td>\n",
       "      <td>0.0</td>\n",
       "      <td>0.0</td>\n",
       "      <td>0.0</td>\n",
       "      <td>0</td>\n",
       "    </tr>\n",
       "    <tr>\n",
       "      <th>4</th>\n",
       "      <td>2</td>\n",
       "      <td>8.939260e-04</td>\n",
       "      <td>0.000035</td>\n",
       "      <td>0.0</td>\n",
       "      <td>0.000094</td>\n",
       "      <td>0.0</td>\n",
       "      <td>0.012111</td>\n",
       "      <td>0.154857</td>\n",
       "      <td>0.119226</td>\n",
       "      <td>0.015333</td>\n",
       "      <td>...</td>\n",
       "      <td>0.954428</td>\n",
       "      <td>0.0</td>\n",
       "      <td>0.0</td>\n",
       "      <td>0.0</td>\n",
       "      <td>0.0</td>\n",
       "      <td>0.0</td>\n",
       "      <td>0.0</td>\n",
       "      <td>0.0</td>\n",
       "      <td>0.0</td>\n",
       "      <td>0</td>\n",
       "    </tr>\n",
       "  </tbody>\n",
       "</table>\n",
       "<p>5 rows × 66 columns</p>\n",
       "</div>"
      ],
      "text/plain": [
       "   Protocol  Flow Duration  Total Fwd Packets  Total Backward Packets  \\\n",
       "0         2   1.805269e-03           0.000058                     0.0   \n",
       "1         2   8.333421e-09           0.000012                     0.0   \n",
       "2         2   3.916708e-07           0.000012                     0.0   \n",
       "3         2   8.943260e-04           0.000035                     0.0   \n",
       "4         2   8.939260e-04           0.000035                     0.0   \n",
       "\n",
       "   Fwd Packets Length Total  Bwd Packets Length Total  Fwd Packet Length Max  \\\n",
       "0                  0.000137                       0.0               0.012235   \n",
       "1                  0.000053                       0.0               0.012484   \n",
       "2                  0.000050                       0.0               0.011924   \n",
       "3                  0.000092                       0.0               0.011488   \n",
       "4                  0.000094                       0.0               0.012111   \n",
       "\n",
       "   Fwd Packet Length Min  Fwd Packet Length Mean  Fwd Packet Length Std  ...  \\\n",
       "0               0.150634                0.115412               0.015795  ...   \n",
       "1               0.188175                0.132989               0.000000  ...   \n",
       "2               0.179728                0.127019               0.000000  ...   \n",
       "3               0.154857                0.115909               0.010136  ...   \n",
       "4               0.154857                0.119226               0.015333  ...   \n",
       "\n",
       "   Fwd Seg Size Min  Active Mean  Active Std  Active Max  Active Min  \\\n",
       "0          0.954428          0.0         0.0         0.0         0.0   \n",
       "1          0.954428          0.0         0.0         0.0         0.0   \n",
       "2          0.954428          0.0         0.0         0.0         0.0   \n",
       "3          0.954428          0.0         0.0         0.0         0.0   \n",
       "4          0.954428          0.0         0.0         0.0         0.0   \n",
       "\n",
       "   Idle Mean  Idle Std  Idle Max  Idle Min  Class  \n",
       "0        0.0       0.0       0.0       0.0      0  \n",
       "1        0.0       0.0       0.0       0.0      0  \n",
       "2        0.0       0.0       0.0       0.0      0  \n",
       "3        0.0       0.0       0.0       0.0      0  \n",
       "4        0.0       0.0       0.0       0.0      0  \n",
       "\n",
       "[5 rows x 66 columns]"
      ]
     },
     "execution_count": 14,
     "metadata": {},
     "output_type": "execute_result"
    }
   ],
   "source": [
    "#MinMax Scaler\n",
    "from numpy import asarray\n",
    "from sklearn.preprocessing import MinMaxScaler\n",
    "scaler = MinMaxScaler()\n",
    "data[col_for_nor] = scaler.fit_transform(data[col_for_nor])\n",
    "\n",
    "# range from 0 to 1\n",
    "data.head()"
   ]
  },
  {
   "cell_type": "code",
   "execution_count": 15,
   "id": "f7070731",
   "metadata": {},
   "outputs": [
    {
     "name": "stdout",
     "output_type": "stream",
     "text": [
      "Before Drop null values (431371, 66)\n",
      "After Drop null values (431371, 66)\n"
     ]
    }
   ],
   "source": [
    "#checks for null values and drop rows that contain null values.\n",
    "mask = data.isnull().any(axis=1) \n",
    "#drop data that with null values  \n",
    "print(\"Before Drop null values\", data.shape)\n",
    "data =  data[~mask] \n",
    "print(\"After Drop null values\", data.shape)"
   ]
  },
  {
   "cell_type": "markdown",
   "id": "fe68642c",
   "metadata": {},
   "source": [
    "# 4. Splitting the Data:\n",
    "\n",
    "The data is split into train & test sets, 70-30 split.\n",
    "\n"
   ]
  },
  {
   "cell_type": "code",
   "execution_count": 16,
   "id": "d23aa444",
   "metadata": {},
   "outputs": [],
   "source": [
    "# Predictive Machine Learning\n",
    "x= inputs\n",
    "y = data['Class']"
   ]
  },
  {
   "cell_type": "code",
   "execution_count": 17,
   "id": "4b733eda",
   "metadata": {},
   "outputs": [
    {
     "data": {
      "text/plain": [
       "((301959, 65), (129412, 65), (301959,), (129412,))"
      ]
     },
     "execution_count": 17,
     "metadata": {},
     "output_type": "execute_result"
    }
   ],
   "source": [
    "# Splitting the dataset into train and test sets: 70-30 split\n",
    "from sklearn.model_selection import train_test_split\n",
    "X_train, X_test, y_train, y_test = train_test_split(x,y, test_size=0.30, random_state=200)\n",
    "X_train.shape, X_test.shape, y_train.shape, y_test.shape "
   ]
  },
  {
   "cell_type": "code",
   "execution_count": 18,
   "id": "38cf93a6",
   "metadata": {},
   "outputs": [
    {
     "name": "stdout",
     "output_type": "stream",
     "text": [
      "0    233467\n",
      "1     68492\n",
      "Name: Class, dtype: int64\n"
     ]
    }
   ],
   "source": [
    "print(y_train.value_counts())"
   ]
  },
  {
   "cell_type": "code",
   "execution_count": 19,
   "id": "c3010d14",
   "metadata": {
    "scrolled": true
   },
   "outputs": [
    {
     "data": {
      "image/png": "[encoded data removed]",
      "text/plain": [
       "<Figure size 1000x600 with 1 Axes>"
      ]
     },
     "metadata": {},
     "output_type": "display_data"
    }
   ],
   "source": [
    "#generate a bar plot that visualizes the counts of each label in the y_train column(distribution of classes)\n",
    "import pandas as pd\n",
    "import matplotlib.pyplot as plt\n",
    "\n",
    "# Count the occurrences of each label\n",
    "label_counts = y_train.value_counts()\n",
    "\n",
    "# Create a bar plot to visualize the label counts\n",
    "plt.figure(figsize=(10, 6))\n",
    "label_counts.plot(kind='bar')\n",
    "plt.title('Comparison of Label Column')\n",
    "plt.xlabel('Class')\n",
    "plt.ylabel('Count')\n",
    "plt.show()"
   ]
  },
  {
   "cell_type": "markdown",
   "id": "835ffc7f",
   "metadata": {},
   "source": [
    "# 3.4.Data Balance \n",
    "\n",
    "Within machine learning, it is preferable to have a well-balanced dataset. Under sampling techniques using Near Miss were used."
   ]
  },
  {
   "cell_type": "code",
   "execution_count": 20,
   "id": "ba12f064",
   "metadata": {},
   "outputs": [
    {
     "name": "stdout",
     "output_type": "stream",
     "text": [
      "Resampled dataset shape Counter({0: 68492, 1: 68492})\n"
     ]
    }
   ],
   "source": [
    "#Data Balance under-sampling using the NearMiss algorithm\n",
    "from imblearn.under_sampling import NearMiss\n",
    "from collections import Counter\n",
    "nm = NearMiss()\n",
    "\n",
    "X_train, y_train = nm.fit_resample(X_train, y_train)\n",
    "print('Resampled dataset shape %s' % Counter(y_train))"
   ]
  },
  {
   "cell_type": "code",
   "execution_count": 21,
   "id": "7518c94b",
   "metadata": {
    "scrolled": false
   },
   "outputs": [
    {
     "data": {
      "image/png": "[encoded data removed]",
      "text/plain": [
       "<Figure size 1000x600 with 1 Axes>"
      ]
     },
     "metadata": {},
     "output_type": "display_data"
    }
   ],
   "source": [
    "#create a bar plot to visualize the label counts\n",
    "import pandas as pd\n",
    "import matplotlib.pyplot as plt\n",
    "\n",
    "# Count the occurrences of each label\n",
    "label_counts = y_train.value_counts()\n",
    "\n",
    "# Create a bar plot to visualize the label counts\n",
    "plt.figure(figsize=(10, 6))\n",
    "label_counts.plot(kind='bar')\n",
    "plt.title('Comparison of Label Column')\n",
    "plt.xlabel('Class')\n",
    "plt.ylabel('Count')\n",
    "plt.show()"
   ]
  },
  {
   "cell_type": "markdown",
   "id": "c34d7219",
   "metadata": {},
   "source": [
    "# 5. Model Building & Training:\n",
    "\n",
    "A method of data analysis that creates models using algorithms that learn from data, allowing computers to make correct predictions without being explicitly programmed. The most common categorization of machine learning algorithms is Supervised and Unsupervised. In this project supervised machine learning was used. Supervised machine learning is useful when the labels and features of the training set are known. \n",
    "\n",
    " The supervised machine learning models considered to train the dataset in this notebook are:\n",
    " \n",
    " 1.Random Forest\n",
    " \n",
    " 2.Decision Tree\n",
    " \n",
    " 3.Xgboost\n",
    " \n",
    " 4.k-Nearest Neighbors\n",
    " \n",
    " 5.Logistic Regression\n",
    " \n",
    " 6.GaussianNB\n",
    " \n",
    " The metrics considered to evaluate the model performance are Accuracy , F1 score , Recal and Precision "
   ]
  },
  {
   "cell_type": "markdown",
   "id": "52afd0c6",
   "metadata": {},
   "source": [
    "# 5.1.Random Forest classifier\n",
    "Random Forest make predictions by combining multiple decision trees. Each tree is determined by the values of a random vector sampled randomly and with the same distribution. The output of the classifier is determined by the most voted class among all the trees in the model during the classification process."
   ]
  },
  {
   "cell_type": "code",
   "execution_count": 24,
   "id": "8fa76b04",
   "metadata": {},
   "outputs": [
    {
     "name": "stdout",
     "output_type": "stream",
     "text": [
      "Accuracy score: 0.913060612617068\n",
      "F1 score:  0.9174620434278463\n",
      "Recall score: 0.913060612617068\n",
      "Precision score 0.9371217460773607\n"
     ]
    }
   ],
   "source": [
    "#Random Forest classifier\n",
    "#instantiate the model\n",
    "from sklearn.metrics import accuracy_score, f1_score, recall_score, precision_score\n",
    "from sklearn.ensemble import RandomForestClassifier\n",
    "RFmodel = RandomForestClassifier(n_estimators=40,random_state=101,max_depth=15,criterion='entropy')\n",
    "# fit the model\n",
    "RFmodel = RFmodel.fit(X_train,y_train)\n",
    "y_predec_RFmodel = RFmodel.predict(X_test)\n",
    "\n",
    "# Calculate and print the accuracy score\n",
    "accuracy_RFmodel = accuracy_score(y_test, y_predec_RFmodel )\n",
    "print(\"Accuracy score:\" ,accuracy_RFmodel )\n",
    "\n",
    "# Calculate and print the f1 score\n",
    "RFmodel_f1_score= f1_score(y_test,y_predec_RFmodel , average='weighted')\n",
    "print(\"F1 score: \",RFmodel_f1_score)\n",
    "\n",
    "# Calculate and print the Recall score\n",
    "RFmodel_recall = recall_score(y_test,y_predec_RFmodel , average='weighted')\n",
    "print(\"Recall score:\" ,RFmodel_recall)\n",
    "\n",
    "# Calculate and print the precision score\n",
    "RFmodel_precision = precision_score(y_test,y_predec_RFmodel , average='weighted')\n",
    "print(\"Precision score\",RFmodel_precision)"
   ]
  },
  {
   "cell_type": "markdown",
   "id": "27ee2ebd",
   "metadata": {},
   "source": [
    "# 5.2.logistic regression classifier\n",
    "Logistic regression measures the relationship between the predicted variable and at least one independent factor. Following that, a sigmoid function is used to convert the obtained probabilities to binary values. The Sigmoid Function is shown as an S-shaped curve that standardizes data between the range of 0 and 1 using a real-valued input. Using logistic regression, you may categorize data and identify the best classification factors. "
   ]
  },
  {
   "cell_type": "code",
   "execution_count": 25,
   "id": "9f130e3f",
   "metadata": {},
   "outputs": [
    {
     "name": "stderr",
     "output_type": "stream",
     "text": [
      "C:\\Users\\Discovery\\anaconda3\\lib\\site-packages\\sklearn\\linear_model\\_logistic.py:458: ConvergenceWarning: lbfgs failed to converge (status=1):\n",
      "STOP: TOTAL NO. of ITERATIONS REACHED LIMIT.\n",
      "\n",
      "Increase the number of iterations (max_iter) or scale the data as shown in:\n",
      "    https://scikit-learn.org/stable/modules/preprocessing.html\n",
      "Please also refer to the documentation for alternative solver options:\n",
      "    https://scikit-learn.org/stable/modules/linear_model.html#logistic-regression\n",
      "  n_iter_i = _check_optimize_result(\n"
     ]
    },
    {
     "name": "stdout",
     "output_type": "stream",
     "text": [
      "Accuracy score:  0.6279247674095138\n",
      "F1 score:  0.6535120208026756\n",
      "Recall score: 0.6279247674095138\n",
      "Precision score: 0.8510390282986541\n"
     ]
    }
   ],
   "source": [
    "#logistic regression classifier\n",
    "#instantiate the model\n",
    "from sklearn.linear_model import LogisticRegression\n",
    "# fit the model\n",
    "lg  = LogisticRegression(random_state=101, max_iter=140)\n",
    "lg.fit(X_train, y_train)\n",
    "y_prediction_lg = lg.predict(X_test)\n",
    "\n",
    "# Calculate and print the accuracy score\n",
    "accuracy_lg = accuracy_score(y_test, y_prediction_lg)\n",
    "print(\"Accuracy score: \" ,accuracy_lg)\n",
    "\n",
    "# Calculate and print the f1 score\n",
    "f1_lg = f1_score(y_test, y_prediction_lg, average='weighted')\n",
    "print(\"F1 score: \" , f1_lg )\n",
    "# Calculate and print the Recall score\n",
    "recall_lg = recall_score(y_test,y_prediction_lg, average='weighted')\n",
    "print(\"Recall score:\" ,recall_lg)\n",
    "\n",
    "# Calculate and print the precision score\n",
    "precision_lg = precision_score(y_test,y_prediction_lg, average='weighted')\n",
    "print(f\"Precision score:\" , precision_lg)"
   ]
  },
  {
   "cell_type": "markdown",
   "id": "0a053aba",
   "metadata": {},
   "source": [
    "# 5.3.Decision Tree classifier\n",
    "\n",
    "Decision Tree used to solve classification and regression problems. Its main goal is to build a training model that can be used to predict the class or value of target variables using learning decision rules inferred from training data. "
   ]
  },
  {
   "cell_type": "code",
   "execution_count": 26,
   "id": "374a1a26",
   "metadata": {},
   "outputs": [
    {
     "name": "stdout",
     "output_type": "stream",
     "text": [
      "Accuracy score:  0.7045637189750564\n",
      "F1 score:  0.7279655774807093\n",
      "Recall score :  0.7045637189750564\n",
      "Precision score: 0.871543728670407\n"
     ]
    }
   ],
   "source": [
    "#Create and Train Decision Tree classifier object\n",
    "#instantiate the model\n",
    "from sklearn.tree import DecisionTreeClassifier \n",
    "from sklearn import tree\n",
    "DT=tree.DecisionTreeClassifier(random_state=101,max_depth=21,criterion=\"gini\")\n",
    "# fit the model\n",
    "DT.fit(X_train, y_train)\n",
    "y_prediction_DT = DT.predict(X_test)\n",
    "\n",
    "# Calculate and print the accuracy score\n",
    "accuracy_score_DT = accuracy_score(y_test, y_prediction_DT)\n",
    "print( \"Accuracy score: \" , accuracy_score_DT)\n",
    "\n",
    "# Calculate and print the f1 score\n",
    "f1_score_DT = f1_score(y_test,y_prediction_DT , average='weighted')\n",
    "print(f\"F1 score: \" ,f1_score_DT)\n",
    "\n",
    "# Calculate and print the Recall score\n",
    "recall_DT = recall_score(y_test, y_prediction_DT, average='weighted')\n",
    "print(\"Recall score : \" ,recall_DT )\n",
    "\n",
    "# Calculate and print the precision score\n",
    "precision_DT = precision_score(y_test,y_prediction_DT, average='weighted')\n",
    "print(\"Precision score:\",precision_DT)"
   ]
  },
  {
   "cell_type": "markdown",
   "id": "2c1f1135",
   "metadata": {},
   "source": [
    "# 5.4.naive bayes (GaussianNB)\n",
    "\n",
    "naive bayes determine classes that include each set of existing attributes and decide which class is the best option. In this method, every attribute will be taken into consideration while making decisions, each feature is independent of the others and has the same significant weights.In order to build a statistical categorization, approach the Bayes Theorem is utilized. It's one of the simplest supervised learning techniques. Naive Bayes classifier helps in developing quick machine learning model and make quick prediction."
   ]
  },
  {
   "cell_type": "code",
   "execution_count": 27,
   "id": "a9d6b0f7",
   "metadata": {},
   "outputs": [
    {
     "name": "stdout",
     "output_type": "stream",
     "text": [
      "Accuracy score:  0.460869162056069\n",
      "F1 score: 0.5046875684112986\n",
      "Recall score:  0.460869162056069\n",
      "Precision score:  0.6004916843569762\n"
     ]
    }
   ],
   "source": [
    "#naive bayes\n",
    "#instantiate the model\n",
    "from sklearn.naive_bayes import GaussianNB\n",
    "gnb = GaussianNB()\n",
    "# fit the model\n",
    "gnb.fit(X_train, y_train)\n",
    "y_prediction_gnb = gnb.predict(X_test)\n",
    "\n",
    "# Calculate and print the accuracy score\n",
    "accuracy_gnb = accuracy_score(y_test,y_prediction_gnb)\n",
    "print(\"Accuracy score: \",accuracy_gnb)\n",
    "\n",
    "# Calculate and print the f1 score\n",
    "f1_gnb = f1_score(y_test,y_prediction_gnb , average='weighted')\n",
    "print(\"F1 score:\",f1_gnb)\n",
    "\n",
    "# Calculate and print the Recall score\n",
    "recall_gnb = recall_score(y_test, y_prediction_gnb, average='weighted')\n",
    "print(\"Recall score: \" ,recall_gnb)\n",
    "\n",
    "# Calculate and print the precision score\n",
    "precision_gnb = precision_score(y_test, y_prediction_gnb, average='weighted')\n",
    "print(\"Precision score: \",precision_gnb)"
   ]
  },
  {
   "cell_type": "markdown",
   "id": "ee0f2eeb",
   "metadata": {},
   "source": [
    "# 5.5.XGBClassifier\n",
    "\n",
    "Is represents to eXtreme Gradient Boosting. It is a decision tree application with gradient enhancements that is optimized for speed and performance.Boosting is a kind of ensemble learning in which advanced approaches are used to correct faults in previously presented models.  Models are added one by one until no more enhancement is possible. When adding new models, it uses a gradient descent method to minimize loss.The purpose of this algorithm is to provide efficient computation time and memory resources. This model's purpose was to give the best requirement and conveniently available sources to train the model. The two most important reasons to use XGBoost are execution speed and model performance. "
   ]
  },
  {
   "cell_type": "code",
   "execution_count": 28,
   "id": "9ffbc4d0",
   "metadata": {},
   "outputs": [
    {
     "name": "stderr",
     "output_type": "stream",
     "text": [
      "C:\\Users\\Discovery\\anaconda3\\lib\\site-packages\\xgboost\\sklearn.py:1395: UserWarning: `use_label_encoder` is deprecated in 1.7.0.\n",
      "  warnings.warn(\"`use_label_encoder` is deprecated in 1.7.0.\")\n"
     ]
    },
    {
     "name": "stdout",
     "output_type": "stream",
     "text": [
      "Accuracy score:  0.8159521528142676\n",
      "F1 score:  0.8300882221518578\n",
      "Recall score :  0.8159521528142676\n",
      "Precision score: 0.8983600972801382\n"
     ]
    }
   ],
   "source": [
    "#XGBClassifier\n",
    "#instantiate the model\n",
    "from xgboost import XGBClassifier\n",
    "xgb = XGBClassifier(n_estimators=40,use_label_encoder=False,max_depth=21,booster='gbtree',objective='binary:logistic',eval_metric='logloss',)\n",
    "# fit the model\n",
    "xgb.fit(X_train, y_train)\n",
    "y_prediction_xgb = xgb.predict(X_test)\n",
    "\n",
    "# Calculate and print the accuracy score\n",
    "accuracy_score_xgb = accuracy_score(y_test, y_prediction_xgb)\n",
    "print( \"Accuracy score: \" , accuracy_score_xgb)\n",
    "\n",
    "# Calculate and print the f1 score\n",
    "f1_score_xgb = f1_score(y_test,y_prediction_xgb , average='weighted')\n",
    "print(f\"F1 score: \" ,f1_score_xgb)\n",
    "\n",
    "# Calculate and print the Recall score\n",
    "recall_xgb = recall_score(y_test, y_prediction_xgb, average='weighted')\n",
    "print(\"Recall score : \" ,recall_xgb )\n",
    "\n",
    "# Calculate and print the precision score\n",
    "precision_xgb = precision_score(y_test,y_prediction_xgb, average='weighted')\n",
    "print(\"Precision score:\",precision_xgb)\n"
   ]
  },
  {
   "cell_type": "markdown",
   "id": "728fcc66",
   "metadata": {},
   "source": [
    "# 5.6.k-Nearest Neighbors\n",
    "\n",
    "KNeighbors used to handle problems in both regression and classification.This technique considers that incoming data and current situations are highly comparable and classifies them into the most relevant category possible.It differentiates every available data from data that has previously been stored.Also, new data can be immediately classified into the most appropriate category. "
   ]
  },
  {
   "cell_type": "code",
   "execution_count": 30,
   "id": "1f6aacc5",
   "metadata": {},
   "outputs": [
    {
     "name": "stdout",
     "output_type": "stream",
     "text": [
      "Accuracy score: 0.47485550026272677\n",
      "F1 score:  0.4812835044001832\n",
      "Recall score: 0.47485550026272677\n",
      "Precision score 0.838523518368507\n"
     ]
    }
   ],
   "source": [
    "#KNeighbors Classifier\n",
    "#instantiate the model\n",
    "from sklearn.neighbors import KNeighborsClassifier\n",
    "knn = KNeighborsClassifier(n_neighbors=7)\n",
    "\n",
    "# Fit the model \n",
    "knn.fit(X_train, y_train)\n",
    "y_predec_knn = knn.predict(X_test)\n",
    "\n",
    "# Calculate and print the accuracy score\n",
    "accuracy_knn = accuracy_score(y_test, y_predec_knn )\n",
    "print(\"Accuracy score:\" ,accuracy_knn )\n",
    "\n",
    "# Calculate and print the f1 score\n",
    "knn_f1_score = f1_score(y_test,y_predec_knn , average='weighted')\n",
    "print(\"F1 score: \",knn_f1_score)\n",
    "\n",
    "# Calculate and print the Recall score\n",
    "knn_recall = recall_score(y_test,y_predec_knn , average='weighted')\n",
    "print(\"Recall score:\" ,knn_recall)\n",
    "\n",
    "# Calculate and print the precision score\n",
    "knn_precision = precision_score(y_test,y_predec_knn , average='weighted')\n",
    "print(\"Precision score\",knn_precision)"
   ]
  },
  {
   "cell_type": "markdown",
   "id": "8dc2a576",
   "metadata": {},
   "source": [
    "# 3.5.Feature Selection\n",
    "\n",
    "Feature Selection is a basic concept in machine learning that has a considerable impact on the performance of the model. Feature selection aims to select the best feature in the data set.This process removes irrelevant features so that it can improve model performance. "
   ]
  },
  {
   "cell_type": "code",
   "execution_count": 31,
   "id": "515415c0",
   "metadata": {
    "scrolled": false
   },
   "outputs": [
    {
     "data": {
      "image/png": "[encoded data removed]",
      "text/plain": [
       "<Figure size 1000x500 with 1 Axes>"
      ]
     },
     "metadata": {},
     "output_type": "display_data"
    }
   ],
   "source": [
    "#create bar plot that visualizes the top 20 important features as determined by the Random Forest classifier in descending order\n",
    "import numpy as np\n",
    "import sklearn as sk \n",
    "from xgboost import XGBClassifier\n",
    "from sklearn.ensemble import RandomForestClassifier\n",
    "forest = RandomForestClassifier(n_estimators=50, random_state=100,max_depth=15,criterion='entropy')\n",
    "forest.fit(X_train, y_train)\n",
    "\n",
    "importances = forest.feature_importances_\n",
    "std = np.std([tree.feature_importances_ for tree in forest.estimators_],\n",
    "                 axis=0)\n",
    "indices = np.argsort(importances)[::-1]\n",
    "refclasscol=list(data.columns.values)\n",
    "impor_bars = pd.DataFrame({'Features':refclasscol[0:20],'importance':importances[0:20]})\n",
    "\n",
    "\n",
    "impor_bars = impor_bars.sort_values('importance',ascending=False).set_index('Features')\n",
    "plt.rcParams['figure.figsize'] = (10, 5)\n",
    "impor_bars.plot.bar();"
   ]
  },
  {
   "cell_type": "markdown",
   "id": "75287080",
   "metadata": {},
   "source": [
    "# determine an optimal threshold for feature selection."
   ]
  },
  {
   "cell_type": "code",
   "execution_count": 32,
   "id": "cad31da7",
   "metadata": {
    "scrolled": true
   },
   "outputs": [
    {
     "name": "stdout",
     "output_type": "stream",
     "text": [
      "Thresh=0.000000, n=65, Accuracy: 86.65%\n",
      "Thresh=0.000000, n=65, Accuracy: 86.65%\n",
      "Thresh=0.000004, n=63, Accuracy: 84.82%\n",
      "Thresh=0.000033, n=62, Accuracy: 80.37%\n",
      "Thresh=0.000036, n=61, Accuracy: 91.91%\n",
      "Thresh=0.000068, n=60, Accuracy: 86.65%\n",
      "Thresh=0.000128, n=59, Accuracy: 89.13%\n",
      "Thresh=0.000129, n=58, Accuracy: 90.23%\n",
      "Thresh=0.000150, n=57, Accuracy: 87.20%\n",
      "Thresh=0.000173, n=56, Accuracy: 86.86%\n",
      "Thresh=0.000200, n=55, Accuracy: 77.01%\n",
      "Thresh=0.000219, n=54, Accuracy: 88.08%\n",
      "Thresh=0.000224, n=53, Accuracy: 91.13%\n",
      "Thresh=0.000242, n=52, Accuracy: 85.82%\n",
      "Thresh=0.000309, n=51, Accuracy: 78.69%\n",
      "Thresh=0.000327, n=50, Accuracy: 90.94%\n",
      "Thresh=0.000720, n=49, Accuracy: 93.31%\n",
      "Thresh=0.000767, n=48, Accuracy: 86.94%\n",
      "Thresh=0.001090, n=47, Accuracy: 80.57%\n",
      "Thresh=0.001579, n=46, Accuracy: 87.85%\n",
      "Thresh=0.001727, n=45, Accuracy: 93.26%\n",
      "Thresh=0.001744, n=44, Accuracy: 79.79%\n",
      "Thresh=0.002158, n=43, Accuracy: 92.15%\n",
      "Thresh=0.002233, n=42, Accuracy: 89.36%\n",
      "Thresh=0.002475, n=41, Accuracy: 84.70%\n",
      "Thresh=0.002907, n=40, Accuracy: 88.38%\n",
      "Thresh=0.003784, n=39, Accuracy: 92.04%\n",
      "Thresh=0.003857, n=38, Accuracy: 90.90%\n",
      "Thresh=0.004475, n=37, Accuracy: 93.00%\n",
      "Thresh=0.005053, n=36, Accuracy: 92.94%\n",
      "Thresh=0.005154, n=35, Accuracy: 87.97%\n",
      "Thresh=0.005242, n=34, Accuracy: 85.75%\n",
      "Thresh=0.005283, n=33, Accuracy: 88.77%\n",
      "Thresh=0.005296, n=32, Accuracy: 92.79%\n",
      "Thresh=0.005618, n=31, Accuracy: 93.01%\n",
      "Thresh=0.005730, n=30, Accuracy: 89.47%\n",
      "Thresh=0.005954, n=29, Accuracy: 90.92%\n",
      "Thresh=0.006316, n=28, Accuracy: 92.61%\n",
      "Thresh=0.007599, n=27, Accuracy: 90.01%\n",
      "Thresh=0.009154, n=26, Accuracy: 88.44%\n",
      "Thresh=0.010170, n=25, Accuracy: 87.71%\n",
      "Thresh=0.012694, n=24, Accuracy: 91.52%\n",
      "Thresh=0.012972, n=23, Accuracy: 89.15%\n",
      "Thresh=0.013046, n=22, Accuracy: 93.04%\n",
      "Thresh=0.014038, n=21, Accuracy: 98.92%\n",
      "Thresh=0.014598, n=20, Accuracy: 93.06%\n",
      "Thresh=0.019126, n=19, Accuracy: 93.02%\n",
      "Thresh=0.020049, n=18, Accuracy: 94.34%\n",
      "Thresh=0.020102, n=17, Accuracy: 94.38%\n",
      "Thresh=0.022390, n=16, Accuracy: 94.31%\n",
      "Thresh=0.023530, n=15, Accuracy: 94.58%\n",
      "Thresh=0.026054, n=14, Accuracy: 99.52%\n",
      "Thresh=0.026652, n=13, Accuracy: 94.62%\n",
      "Thresh=0.028828, n=12, Accuracy: 90.99%\n",
      "Thresh=0.031612, n=11, Accuracy: 93.94%\n",
      "Thresh=0.034284, n=10, Accuracy: 94.68%\n",
      "Thresh=0.034764, n=9, Accuracy: 94.56%\n",
      "Thresh=0.038621, n=8, Accuracy: 91.29%\n",
      "Thresh=0.040855, n=7, Accuracy: 91.50%\n",
      "Thresh=0.045460, n=6, Accuracy: 87.66%\n",
      "Thresh=0.050239, n=5, Accuracy: 88.41%\n",
      "Thresh=0.057791, n=4, Accuracy: 94.46%\n",
      "Thresh=0.072274, n=3, Accuracy: 83.61%\n",
      "Thresh=0.077843, n=2, Accuracy: 83.64%\n",
      "Thresh=0.153851, n=1, Accuracy: 83.46%\n"
     ]
    }
   ],
   "source": [
    "from sklearn.metrics import accuracy_score, f1_score, recall_score, precision_score\n",
    "from numpy import sort\n",
    "from sklearn.feature_selection import SelectFromModel\n",
    "thresholds = sort(forest.feature_importances_)\n",
    "for thresh in thresholds:\n",
    " # select features using threshold\n",
    " selection = SelectFromModel(forest, threshold=thresh, prefit=False)\n",
    " select_X_train = selection.fit_transform(X_train,y_train)\n",
    " # train model\n",
    " selection_model = RandomForestClassifier(n_estimators=50, random_state=200,max_depth=15,criterion='entropy')\n",
    " selection_model.fit(select_X_train, y_train)\n",
    " # eval model\n",
    " select_X_test = selection.transform(X_test)\n",
    " predictions = selection_model.predict(select_X_test)\n",
    " accuracy = accuracy_score(y_test, predictions)\n",
    " print(\"Thresh=%f, n=%d, Accuracy: %.2f%%\" % (thresh, select_X_train.shape[1], accuracy*100.0))"
   ]
  },
  {
   "cell_type": "markdown",
   "id": "53db1807",
   "metadata": {},
   "source": [
    "# select features based on a specified threshold."
   ]
  },
  {
   "cell_type": "code",
   "execution_count": 33,
   "id": "09ab3360",
   "metadata": {},
   "outputs": [],
   "source": [
    "sele = SelectFromModel(forest, threshold=0.026054, prefit=False)\n",
    "X_train = sele.fit_transform(X_train,y_train)\n",
    "X_test = sele.transform(X_test)"
   ]
  },
  {
   "cell_type": "markdown",
   "id": "3a34b9df",
   "metadata": {},
   "source": [
    "# prints the names of the selected features."
   ]
  },
  {
   "cell_type": "code",
   "execution_count": 34,
   "id": "5492a455",
   "metadata": {},
   "outputs": [
    {
     "name": "stdout",
     "output_type": "stream",
     "text": [
      "Index(['Total Backward Packets', 'Fwd Packets Length Total',\n",
      "       'Fwd Packet Length Max', 'Fwd Packet Length Min',\n",
      "       'Fwd Packet Length Mean', 'Bwd Header Length', 'Bwd Packets/s',\n",
      "       'Packet Length Min', 'Packet Length Max', 'Packet Length Mean',\n",
      "       'ACK Flag Count', 'Avg Fwd Segment Size', 'Subflow Fwd Bytes',\n",
      "       'Init Fwd Win Bytes'],\n",
      "      dtype='object')\n"
     ]
    }
   ],
   "source": [
    "filter = sele.get_support(indices=True)\n",
    "new_features = data.columns[filter]\n",
    "print(new_features)"
   ]
  },
  {
   "cell_type": "markdown",
   "id": "c4c4e1dd",
   "metadata": {},
   "source": [
    "# Random Forrest classifier after featuers selection "
   ]
  },
  {
   "cell_type": "code",
   "execution_count": 35,
   "id": "502f4011",
   "metadata": {},
   "outputs": [
    {
     "name": "stdout",
     "output_type": "stream",
     "text": [
      "Accuracy score: 0.9937022841776652\n",
      "F1 score:  0.9937317460313018\n",
      "Recall score: 0.9937022841776652\n",
      "Precision score 0.9938651086180048\n"
     ]
    }
   ],
   "source": [
    "#instantiate the model\n",
    "RFmodel = RandomForestClassifier(n_estimators=40,random_state=101,max_depth=15,criterion='entropy')\n",
    "# fit the model\n",
    "RFmodel = RFmodel.fit(X_train,y_train)\n",
    "y_predec_RFmodel = RFmodel.predict(X_test)\n",
    "\n",
    "# Calculate and print the accuracy score\n",
    "accuracy_RFmodel = accuracy_score(y_test, y_predec_RFmodel )\n",
    "print(\"Accuracy score:\" ,accuracy_RFmodel )\n",
    "\n",
    "# Calculate and print the f1 score\n",
    "RFmodel_f1_score= f1_score(y_test,y_predec_RFmodel , average='weighted')\n",
    "print(\"F1 score: \",RFmodel_f1_score)\n",
    "\n",
    "# Calculate and print the Recall score\n",
    "RFmodel_recall = recall_score(y_test,y_predec_RFmodel , average='weighted')\n",
    "print(\"Recall score:\" ,RFmodel_recall)\n",
    "\n",
    "# Calculate and print the precision score\n",
    "RFmodel_precision = precision_score(y_test,y_predec_RFmodel , average='weighted')\n",
    "print(\"Precision score\",RFmodel_precision)"
   ]
  },
  {
   "cell_type": "markdown",
   "id": "c41fb00d",
   "metadata": {},
   "source": [
    "# logistic regression classifier after features selection "
   ]
  },
  {
   "cell_type": "code",
   "execution_count": 36,
   "id": "f29b1883",
   "metadata": {},
   "outputs": [
    {
     "name": "stdout",
     "output_type": "stream",
     "text": [
      "Accuracy score:  0.7689395110190709\n",
      "F1 score:  0.7738662802342458\n",
      "Recall score: 0.7689395110190709\n",
      "Precision score: 0.7802487917591369\n"
     ]
    },
    {
     "name": "stderr",
     "output_type": "stream",
     "text": [
      "C:\\Users\\Discovery\\anaconda3\\lib\\site-packages\\sklearn\\linear_model\\_logistic.py:458: ConvergenceWarning: lbfgs failed to converge (status=2):\n",
      "ABNORMAL_TERMINATION_IN_LNSRCH.\n",
      "\n",
      "Increase the number of iterations (max_iter) or scale the data as shown in:\n",
      "    https://scikit-learn.org/stable/modules/preprocessing.html\n",
      "Please also refer to the documentation for alternative solver options:\n",
      "    https://scikit-learn.org/stable/modules/linear_model.html#logistic-regression\n",
      "  n_iter_i = _check_optimize_result(\n"
     ]
    }
   ],
   "source": [
    "#instantiate the model\n",
    "from sklearn.linear_model import LogisticRegression\n",
    "# fit the model\n",
    "lg  = LogisticRegression(random_state=101, max_iter=140)\n",
    "lg.fit(X_train, y_train)\n",
    "y_prediction_lg = lg.predict(X_test)\n",
    "\n",
    "# Calculate and print the accuracy score\n",
    "accuracy_lg = accuracy_score(y_test, y_prediction_lg)\n",
    "print(\"Accuracy score: \" ,accuracy_lg)\n",
    "\n",
    "# Calculate and print the f1 score\n",
    "f1_lg = f1_score(y_test, y_prediction_lg, average='weighted')\n",
    "print(\"F1 score: \" , f1_lg )\n",
    "# Calculate and print the Recall score\n",
    "recall_lg = recall_score(y_test,y_prediction_lg, average='weighted')\n",
    "print(\"Recall score:\" ,recall_lg)\n",
    "\n",
    "# Calculate and print the precision score\n",
    "precision_lg = precision_score(y_test,y_prediction_lg, average='weighted')\n",
    "print(f\"Precision score:\" , precision_lg)"
   ]
  },
  {
   "cell_type": "markdown",
   "id": "87175718",
   "metadata": {},
   "source": [
    "#  Decision Tree classifier after features selection"
   ]
  },
  {
   "cell_type": "code",
   "execution_count": 37,
   "id": "264cecac",
   "metadata": {},
   "outputs": [
    {
     "name": "stdout",
     "output_type": "stream",
     "text": [
      "Accuracy score:  0.9938336475751862\n",
      "F1 score:  0.9938608898779978\n",
      "Recall score :  0.9938336475751862\n",
      "Precision score: 0.9939806931691527\n"
     ]
    }
   ],
   "source": [
    "#instantiate the model\n",
    "from sklearn.tree import DecisionTreeClassifier \n",
    "from sklearn import tree\n",
    "DT=tree.DecisionTreeClassifier(random_state=101,max_depth=21,criterion=\"gini\")\n",
    "# fit the model\n",
    "DT.fit(X_train, y_train)\n",
    "y_prediction_DT = DT.predict(X_test)\n",
    "\n",
    "# Calculate and print the accuracy score\n",
    "accuracy_score_DT = accuracy_score(y_test, y_prediction_DT)\n",
    "print( \"Accuracy score: \" , accuracy_score_DT)\n",
    "\n",
    "# Calculate and print the f1 score\n",
    "f1_score_DT = f1_score(y_test,y_prediction_DT , average='weighted')\n",
    "print(f\"F1 score: \" ,f1_score_DT)\n",
    "\n",
    "# Calculate and print the Recall score\n",
    "recall_DT = recall_score(y_test, y_prediction_DT, average='weighted')\n",
    "print(\"Recall score : \" ,recall_DT )\n",
    "\n",
    "# Calculate and print the precision score\n",
    "precision_DT = precision_score(y_test,y_prediction_DT, average='weighted')\n",
    "print(\"Precision score:\",precision_DT)"
   ]
  },
  {
   "cell_type": "markdown",
   "id": "25c57e20",
   "metadata": {},
   "source": [
    "#  GaussianNB after featuers selection"
   ]
  },
  {
   "cell_type": "code",
   "execution_count": 38,
   "id": "cc77f708",
   "metadata": {},
   "outputs": [
    {
     "name": "stdout",
     "output_type": "stream",
     "text": [
      "Accuracy score:  0.6217352332086669\n",
      "F1 score: 0.6138291990729172\n",
      "Recall score:  0.6217352332086669\n",
      "Precision score:  0.6063893528867589\n"
     ]
    }
   ],
   "source": [
    "#instantiate the model\n",
    "from sklearn.naive_bayes import GaussianNB\n",
    "gnb = GaussianNB()\n",
    "# fit the model\n",
    "gnb.fit(X_train, y_train)\n",
    "y_prediction_gnb = gnb.predict(X_test)\n",
    "\n",
    "# Calculate and print the accuracy score\n",
    "accuracy_gnb = accuracy_score(y_test,y_prediction_gnb)\n",
    "print(\"Accuracy score: \",accuracy_gnb)\n",
    "\n",
    "# Calculate and print the f1 score\n",
    "f1_gnb = f1_score(y_test,y_prediction_gnb , average='weighted')\n",
    "print(\"F1 score:\",f1_gnb)\n",
    "\n",
    "# Calculate and print the Recall score\n",
    "recall_gnb = recall_score(y_test, y_prediction_gnb, average='weighted')\n",
    "print(\"Recall score: \" ,recall_gnb)\n",
    "\n",
    "# Calculate and print the precision score\n",
    "precision_gnb = precision_score(y_test, y_prediction_gnb, average='weighted')\n",
    "print(\"Precision score: \",precision_gnb)"
   ]
  },
  {
   "cell_type": "markdown",
   "id": "707c1ee5",
   "metadata": {},
   "source": [
    "#  XGBClassifier after features selection"
   ]
  },
  {
   "cell_type": "code",
   "execution_count": 39,
   "id": "92a05c2d",
   "metadata": {},
   "outputs": [
    {
     "name": "stderr",
     "output_type": "stream",
     "text": [
      "C:\\Users\\Discovery\\anaconda3\\lib\\site-packages\\xgboost\\sklearn.py:1395: UserWarning: `use_label_encoder` is deprecated in 1.7.0.\n",
      "  warnings.warn(\"`use_label_encoder` is deprecated in 1.7.0.\")\n"
     ]
    },
    {
     "name": "stdout",
     "output_type": "stream",
     "text": [
      "Accuracy score:  0.9935477390041109\n",
      "F1 score:  0.9935788179164439\n",
      "Recall score :  0.9935477390041109\n",
      "Precision score: 0.9937200899813553\n"
     ]
    }
   ],
   "source": [
    "#instantiate the model\n",
    "from xgboost import XGBClassifier\n",
    "xgb = XGBClassifier(n_estimators=40,use_label_encoder=False,max_depth=21,booster='gbtree',objective='binary:logistic',eval_metric='logloss',)\n",
    "# fit the model\n",
    "xgb.fit(X_train, y_train)\n",
    "y_prediction_xgb = xgb.predict(X_test)\n",
    "\n",
    "# Calculate and print the accuracy score\n",
    "accuracy_score_xgb = accuracy_score(y_test, y_prediction_xgb)\n",
    "print( \"Accuracy score: \" , accuracy_score_xgb)\n",
    "\n",
    "# Calculate and print the f1 score\n",
    "f1_score_xgb = f1_score(y_test,y_prediction_xgb , average='weighted')\n",
    "print(f\"F1 score: \" ,f1_score_xgb)\n",
    "\n",
    "# Calculate and print the Recall score\n",
    "recall_xgb = recall_score(y_test, y_prediction_xgb, average='weighted')\n",
    "print(\"Recall score : \" ,recall_xgb )\n",
    "\n",
    "# Calculate and print the precision score\n",
    "precision_xgb = precision_score(y_test,y_prediction_xgb, average='weighted')\n",
    "print(\"Precision score:\",precision_xgb)\n"
   ]
  },
  {
   "cell_type": "markdown",
   "id": "ba829216",
   "metadata": {},
   "source": [
    "# KNeighbors Classifier after fearures selection"
   ]
  },
  {
   "cell_type": "code",
   "execution_count": 40,
   "id": "618d8c76",
   "metadata": {},
   "outputs": [
    {
     "name": "stdout",
     "output_type": "stream",
     "text": [
      "Accuracy score: 0.7855376626587952\n",
      "F1 score:  0.8025428794284906\n",
      "Recall score: 0.7855376626587952\n",
      "Precision score 0.8835587648751843\n"
     ]
    }
   ],
   "source": [
    "#instantiate the model\n",
    "from sklearn.neighbors import KNeighborsClassifier\n",
    "knn = KNeighborsClassifier(n_neighbors=7)\n",
    "\n",
    "# Fit the model \n",
    "knn.fit(X_train, y_train)\n",
    "y_predec_knn = knn.predict(X_test)\n",
    "\n",
    "# Calculate and print the accuracy score\n",
    "accuracy_knn = accuracy_score(y_test, y_predec_knn )\n",
    "print(\"Accuracy score:\" ,accuracy_knn )\n",
    "\n",
    "# Calculate and print the f1 score\n",
    "knn_f1_score = f1_score(y_test,y_predec_knn , average='weighted')\n",
    "print(\"F1 score: \",knn_f1_score)\n",
    "\n",
    "# Calculate and print the Recall score\n",
    "knn_recall = recall_score(y_test,y_predec_knn , average='weighted')\n",
    "print(\"Recall score:\" ,knn_recall)\n",
    "\n",
    "# Calculate and print the precision score\n",
    "knn_precision = precision_score(y_test,y_predec_knn , average='weighted')\n",
    "print(\"Precision score\",knn_precision)"
   ]
  },
  {
   "cell_type": "markdown",
   "id": "f905e5c2",
   "metadata": {},
   "source": [
    "# 6.conclusion :\n",
    "\n",
    "1.The primary point of view to gain from this project is to experiment with different machine learning models, run exploratory data analysis on the DDoS dataset, and to analyze their features.\n",
    "\n",
    "\n",
    "2.By making this notebook, I was able to learn a lot about the attributes that models use to determine if the traffic is malicious or benign. I also learned how to change models and how these changes effect how well they function.\n",
    "\n",
    "\n",
    "3.The overall result from the DDoS dataset is that various features which selected from Random Forest Classifier,such as:\n",
    "\"Fwd Packet Length Min\", \"Fwd Packet Length Mean\", \"Total Backwords Packets\",\"Fwd Packet Length Max\", \"Fwd Packet Length Total\", \"Flow Packets/s\", \"Flow IAT std\", \"Flow IAT Mean\", \"Flow Bytes/s\", \"Flow Duration\", \"Protocol\", \"Flow IAT Max\", \"Bwd Packets Length Total\", \"Total Fwd Packets\" have more importance to classify the traffic of malicious or benign.\n",
    "\n",
    "\n",
    "4.Random Forest Classifier can classify traffic into 99.52% of its relevant classifications, which lowers the likelihood of false traffic.\n"
   ]
  }
 ],
 "metadata": {
  "kernelspec": {
   "display_name": "Python 3 (ipykernel)",
   "language": "python",
   "name": "python3"
  },
  "language_info": {
   "codemirror_mode": {
    "name": "ipython",
    "version": 3
   },
   "file_extension": ".py",
   "mimetype": "text/x-python",
   "name": "python",
   "nbconvert_exporter": "python",
   "pygments_lexer": "ipython3",
   "version": "3.10.9"
  }
 },
 "nbformat": 4,
 "nbformat_minor": 5
}
